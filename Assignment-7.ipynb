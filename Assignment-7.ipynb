{
 "cells": [
  {
   "cell_type": "markdown",
   "id": "cbbc05fb-18b5-402e-8056-722b7fe58eab",
   "metadata": {},
   "source": [
    "Suppose that a player wants to play a game which requires him Rs. 1,000 to start. If the current balance in his account is less than Rs. 1,000 he needs to withdraw the extra money from his e-wallet.\n",
    "\n",
    "Note that if the sum of money in his current account and the amount withdrawn is greater than or equal to Rs. 1,000 then he can start playing the game. However if the sum is less than Rs. 1,000 then the program should keep displaying the user the message “You still do not have enough money to start playing.” and keep prompting the user to withdraw money unless it crosses Rs. 1,000. Once ready, i.e. if his current account balance crosses Rs. 1,000, it will display a message “Now, you are ready to play the game.” Your program should also display the account balance and the current amount in the e-wallet.\n",
    "\n",
    "(consider: initial account balance is Rs. 200 and money in the e-wallet is Rs. 5,000)\n",
    "\n",
    "(Do further improvement by checking if the e-wallet balance becomes NIL, etc.)\n",
    "\n",
    "Check1: Direct 1000rs then directly paly the game\n",
    "Check-2: 200 \n",
    "                keep on add the amount\n",
    "                till reach 1000"
   ]
  },
  {
   "cell_type": "code",
   "execution_count": 33,
   "id": "aa2b627d-f64f-4aa3-8a99-20ac1d1e66c3",
   "metadata": {},
   "outputs": [
    {
     "name": "stdin",
     "output_type": "stream",
     "text": [
      "enter the amount withdrawn 600\n"
     ]
    },
    {
     "name": "stdout",
     "output_type": "stream",
     "text": [
      "You still do not have enough money to start playing.\n",
      "800 4400\n"
     ]
    },
    {
     "name": "stdin",
     "output_type": "stream",
     "text": [
      "enter the amount withdrawn 200\n"
     ]
    },
    {
     "name": "stdout",
     "output_type": "stream",
     "text": [
      "You still do not have enough money to start playing.\n",
      "1000 4200\n"
     ]
    },
    {
     "name": "stdin",
     "output_type": "stream",
     "text": [
      "enter the amount withdrawn 1\n"
     ]
    },
    {
     "name": "stdout",
     "output_type": "stream",
     "text": [
      "ready to play\n"
     ]
    }
   ],
   "source": [
    "account_balance=200\n",
    "e_wallet=5000\n",
    "while account_balance<=1000:\n",
    "    amount_withdrawn=eval(input('enter the amount withdrawn'))\n",
    "    account_balance=account_balance+amount_withdrawn\n",
    "    e_wallet=e_wallet-amount_withdrawn\n",
    "    if account_balance<=1000:\n",
    "        print('You still do not have enough money to start playing.')\n",
    "        print(account_balance,e_wallet)\n",
    "    elif e_wallet<0:\n",
    "        print('sorry ther si no amount to withdraw')\n",
    "    else:\n",
    "        print('ready to play')\n",
    "        "
   ]
  },
  {
   "cell_type": "code",
   "execution_count": null,
   "id": "9c27c05d-b63f-4931-97e5-4e3010c6384f",
   "metadata": {},
   "outputs": [],
   "source": []
  }
 ],
 "metadata": {
  "kernelspec": {
   "display_name": "Python 3 (ipykernel)",
   "language": "python",
   "name": "python3"
  },
  "language_info": {
   "codemirror_mode": {
    "name": "ipython",
    "version": 3
   },
   "file_extension": ".py",
   "mimetype": "text/x-python",
   "name": "python",
   "nbconvert_exporter": "python",
   "pygments_lexer": "ipython3",
   "version": "3.12.4"
  }
 },
 "nbformat": 4,
 "nbformat_minor": 5
}
