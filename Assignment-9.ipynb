{
 "cells": [
  {
   "cell_type": "code",
   "execution_count": 1,
   "id": "dd88096c-2b6d-4fbd-8791-c6edc229821b",
   "metadata": {},
   "outputs": [
    {
     "name": "stdout",
     "output_type": "stream",
     "text": [
      "4\n"
     ]
    }
   ],
   "source": [
    "str1='an apple a day'\n",
    "count=0\n",
    "for i in str1:\n",
    "    if i=='a':\n",
    "        count=count+1\n",
    "print(count)"
   ]
  },
  {
   "cell_type": "code",
   "execution_count": 2,
   "id": "b10973d5-7ade-41af-b593-bfa4c693ea61",
   "metadata": {},
   "outputs": [
    {
     "name": "stdout",
     "output_type": "stream",
     "text": [
      "4\n"
     ]
    }
   ],
   "source": [
    "str1='an apple a day'\n",
    "count=0\n",
    "for i in range(len(str1)):\n",
    "    if str1[i]=='a':\n",
    "        count=count+1\n",
    "print(count)"
   ]
  },
  {
   "cell_type": "code",
   "execution_count": 3,
   "id": "83140b47-67da-4444-8dfc-48c50c5af28c",
   "metadata": {},
   "outputs": [
    {
     "name": "stdout",
     "output_type": "stream",
     "text": [
      "0\n",
      "3\n",
      "9\n",
      "13\n"
     ]
    }
   ],
   "source": [
    "str1='a wassup animal'\n",
    "for i in range(len(str1)):\n",
    "    if str1[i]=='a':\n",
    "        print(i)"
   ]
  },
  {
   "cell_type": "code",
   "execution_count": 4,
   "id": "c1257040-2f6d-447b-9e61-f04354204ce0",
   "metadata": {},
   "outputs": [
    {
     "name": "stdout",
     "output_type": "stream",
     "text": [
      "5\n",
      "8\n",
      "12\n",
      "18\n",
      "43\n"
     ]
    }
   ],
   "source": [
    "str1='helloa haow are yoau'\n",
    "sum=0\n",
    "for i in range(len(str1)):\n",
    "    if str1[i]=='a':\n",
    "       print(i)\n",
    "       sum=sum+i\n",
    "print(sum)"
   ]
  },
  {
   "cell_type": "code",
   "execution_count": 5,
   "id": "ced45aa5-566f-44be-a75b-ffdd6bc140bb",
   "metadata": {},
   "outputs": [
    {
     "name": "stdout",
     "output_type": "stream",
     "text": [
      "a\n",
      "e\n",
      "i\n",
      "a\n",
      "e\n",
      "e\n",
      "6\n"
     ]
    }
   ],
   "source": [
    "str2='aeiou'\n",
    "string='my name is naveen'\n",
    "count=0\n",
    "for i in string:\n",
    "    if i in str2:\n",
    "        print(i)\n",
    "        count=count+1\n",
    "print(count)\n",
    "        "
   ]
  },
  {
   "cell_type": "code",
   "execution_count": 6,
   "id": "167b20ed-eb91-4acb-bbc2-3e12ffa95e2d",
   "metadata": {},
   "outputs": [
    {
     "name": "stdout",
     "output_type": "stream",
     "text": [
      "a\n",
      "e\n",
      "i\n",
      "a\n",
      "e\n",
      "e\n",
      "6\n"
     ]
    }
   ],
   "source": [
    "str2='aeiou'\n",
    "string='my name is naveen'\n",
    "count=0\n",
    "for i in range(len(string)):\n",
    "    if string[i] in str2:\n",
    "        print(string[i])\n",
    "        count=count+1\n",
    "print(count)"
   ]
  },
  {
   "cell_type": "code",
   "execution_count": 7,
   "id": "9897fc45-7fc8-41fa-9357-bc7e663c7230",
   "metadata": {},
   "outputs": [
    {
     "name": "stdout",
     "output_type": "stream",
     "text": [
      "4\n",
      "eoau\n"
     ]
    }
   ],
   "source": [
    "str1=''\n",
    "str2='hello how are you'\n",
    "str3='aeiou'\n",
    "count=0\n",
    "\n",
    "for i in str2:\n",
    "    if i in str3 and i not in str1:\n",
    "        str1=str1+i\n",
    "        count=count+1\n",
    "print(count)\n",
    "print(str1)"
   ]
  },
  {
   "cell_type": "code",
   "execution_count": 8,
   "id": "e02a3bfa-c16e-47a7-ab74-dbdd065176bf",
   "metadata": {},
   "outputs": [
    {
     "name": "stdout",
     "output_type": "stream",
     "text": [
      "4\n",
      "eoau\n"
     ]
    }
   ],
   "source": [
    "str1=''\n",
    "str2='hello how are you'\n",
    "str3='aeiou'\n",
    "count=0\n",
    "for i in range(len(str2)):\n",
    "    if str2[i] in str3 and str2[i] not in str1:\n",
    "        str1=str1+str2[i]\n",
    "        count=count+1\n",
    "print(count)\n",
    "print(str1)"
   ]
  },
  {
   "cell_type": "code",
   "execution_count": 9,
   "id": "eee05615-277e-4aae-bf0c-c7524c9bbfbc",
   "metadata": {},
   "outputs": [
    {
     "name": "stdout",
     "output_type": "stream",
     "text": [
      "positive index m 0 and negative index of m -17\n",
      "positive index y 1 and negative index of y -16\n",
      "positive index   2 and negative index of   -15\n",
      "positive index n 3 and negative index of n -14\n",
      "positive index a 4 and negative index of a -13\n",
      "positive index m 5 and negative index of m -12\n",
      "positive index e 6 and negative index of e -11\n",
      "positive index   7 and negative index of   -10\n",
      "positive index i 8 and negative index of i -9\n",
      "positive index s 9 and negative index of s -8\n",
      "positive index   10 and negative index of   -7\n",
      "positive index n 11 and negative index of n -6\n",
      "positive index a 12 and negative index of a -5\n",
      "positive index v 13 and negative index of v -4\n",
      "positive index e 14 and negative index of e -3\n",
      "positive index e 15 and negative index of e -2\n",
      "positive index n 16 and negative index of n -1\n"
     ]
    }
   ],
   "source": [
    "strr='my name is naveen'\n",
    "for i in range(len(strr)):\n",
    "    print('positive index',strr[i],i,'and negative index of',strr[i],i-len(strr))"
   ]
  },
  {
   "cell_type": "code",
   "execution_count": 10,
   "id": "3d4e451d-7478-481e-8b3b-6262f2b74f24",
   "metadata": {},
   "outputs": [
    {
     "name": "stdout",
     "output_type": "stream",
     "text": [
      "positive index m 0 and negative index of m -17\n",
      "positive index y 1 and negative index of y -16\n",
      "positive index   2 and negative index of   -15\n",
      "positive index n 3 and negative index of n -14\n",
      "positive index a 4 and negative index of a -13\n",
      "positive index m 5 and negative index of m -12\n",
      "positive index e 6 and negative index of e -11\n",
      "positive index   7 and negative index of   -10\n",
      "positive index i 8 and negative index of i -9\n",
      "positive index s 9 and negative index of s -8\n",
      "positive index   10 and negative index of   -7\n",
      "positive index n 11 and negative index of n -6\n",
      "positive index a 12 and negative index of a -5\n",
      "positive index v 13 and negative index of v -4\n",
      "positive index e 14 and negative index of e -3\n",
      "positive index e 15 and negative index of e -2\n",
      "positive index n 16 and negative index of n -1\n"
     ]
    }
   ],
   "source": [
    "strr1='my name is naveen'\n",
    "i=0\n",
    "while i<len(strr1):\n",
    "    print('positive index',strr1[i],i,'and negative index of',strr1[i],i-len(strr1))\n",
    "    i=i+1"
   ]
  },
  {
   "cell_type": "code",
   "execution_count": null,
   "id": "1dde7ce0-883d-40be-88a3-dc4b241ca2c6",
   "metadata": {},
   "outputs": [],
   "source": []
  }
 ],
 "metadata": {
  "kernelspec": {
   "display_name": "Python 3 (ipykernel)",
   "language": "python",
   "name": "python3"
  },
  "language_info": {
   "codemirror_mode": {
    "name": "ipython",
    "version": 3
   },
   "file_extension": ".py",
   "mimetype": "text/x-python",
   "name": "python",
   "nbconvert_exporter": "python",
   "pygments_lexer": "ipython3",
   "version": "3.12.4"
  }
 },
 "nbformat": 4,
 "nbformat_minor": 5
}
