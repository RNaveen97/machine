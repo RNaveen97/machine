{
 "cells": [
  {
   "cell_type": "code",
   "execution_count": 1,
   "id": "da065426-5e06-4d57-a477-dc3dc2c483ac",
   "metadata": {},
   "outputs": [
    {
     "name": "stdout",
     "output_type": "stream",
     "text": [
      "['Hyd', 'Chennai', 'Mumbai', 'Pune']\n"
     ]
    }
   ],
   "source": [
    "l1=['hyd','chennai','mumbai','pune']\n",
    "l2=[]\n",
    "for i in l1:\n",
    "    l2.append(i.capitalize())\n",
    "print(l2)"
   ]
  },
  {
   "cell_type": "code",
   "execution_count": 20,
   "id": "11251828-7f1f-4eb2-83ee-9513da8147d4",
   "metadata": {},
   "outputs": [
    {
     "name": "stdout",
     "output_type": "stream",
     "text": [
      "['HYD', 'CHENNAI', 'MUMBAI', 'PUNE']\n"
     ]
    }
   ],
   "source": [
    "l1=['hyd','chennai','mumbai','pune']\n",
    "l2=[]\n",
    "for i in l1:\n",
    "    l2.append(i.upper())\n",
    "print(l2)"
   ]
  },
  {
   "cell_type": "code",
   "execution_count": 3,
   "id": "cf218877-7e35-49db-a384-38db1c900248",
   "metadata": {},
   "outputs": [
    {
     "name": "stdout",
     "output_type": "stream",
     "text": [
      "['jgj#n', 'mu#bai'] ['boh', 'pune']\n"
     ]
    }
   ],
   "source": [
    "l1=['boh','jgj#n','mu#bai','pune']\n",
    "l2=[]\n",
    "l3=[]\n",
    "for i in l1:\n",
    "    if '#' in i:\n",
    "        l2.append(i)\n",
    "    else: #or if '#' not in i:\n",
    "        l3.append(i)\n",
    "print(l2,l3)"
   ]
  },
  {
   "cell_type": "code",
   "execution_count": 19,
   "id": "020f3480-9562-4766-9404-aa99235316f3",
   "metadata": {},
   "outputs": [
    {
     "name": "stdout",
     "output_type": "stream",
     "text": [
      "[21, 99, 98, 63, 12, 24, 34]\n"
     ]
    }
   ],
   "source": [
    "import random\n",
    "l=[]\n",
    "for i in range(7):\n",
    "    l.append(random.randint(1,100))\n",
    "print(l)\n",
    "                                           #l.sort()    \n",
    "                                                #print(l[0],l[-1])\n"
   ]
  },
  {
   "cell_type": "code",
   "execution_count": 21,
   "id": "d899225c-2614-423f-a54f-7ba1557e365b",
   "metadata": {},
   "outputs": [
    {
     "data": {
      "text/plain": [
       "99"
      ]
     },
     "execution_count": 21,
     "metadata": {},
     "output_type": "execute_result"
    }
   ],
   "source": [
    "max_num=l[0]\n",
    "for i in l[1:]:\n",
    "    if i>max_num:\n",
    "        max_num=i\n",
    "max_num\n",
    "\n"
   ]
  },
  {
   "cell_type": "code",
   "execution_count": 25,
   "id": "cf092e85-196f-4c89-a581-4a61510a4fd4",
   "metadata": {},
   "outputs": [
    {
     "data": {
      "text/plain": [
       "12"
      ]
     },
     "execution_count": 25,
     "metadata": {},
     "output_type": "execute_result"
    }
   ],
   "source": [
    "min_num=l[0]\n",
    "for i in l[1:]:\n",
    "    if i<min_num:\n",
    "        min_num=i\n",
    "min_num\n"
   ]
  },
  {
   "cell_type": "code",
   "execution_count": 41,
   "id": "e606b00a-bf65-4c83-b9ed-2fbcbccd67fb",
   "metadata": {},
   "outputs": [
    {
     "ename": "SyntaxError",
     "evalue": "invalid syntax (3469544.py, line 3)",
     "output_type": "error",
     "traceback": [
      "\u001b[1;36m  Cell \u001b[1;32mIn[41], line 3\u001b[1;36m\u001b[0m\n\u001b[1;33m    if str[i] in str[]:\u001b[0m\n\u001b[1;37m                     ^\u001b[0m\n\u001b[1;31mSyntaxError\u001b[0m\u001b[1;31m:\u001b[0m invalid syntax\n"
     ]
    }
   ],
   "source": [
    "str1='programming'\n",
    "for i in str1:\n",
    "    \n",
    "    "
   ]
  },
  {
   "cell_type": "code",
   "execution_count": null,
   "id": "f345efe5-536c-419f-9f83-67c6094d5d5f",
   "metadata": {},
   "outputs": [],
   "source": []
  }
 ],
 "metadata": {
  "kernelspec": {
   "display_name": "Python 3 (ipykernel)",
   "language": "python",
   "name": "python3"
  },
  "language_info": {
   "codemirror_mode": {
    "name": "ipython",
    "version": 3
   },
   "file_extension": ".py",
   "mimetype": "text/x-python",
   "name": "python",
   "nbconvert_exporter": "python",
   "pygments_lexer": "ipython3",
   "version": "3.12.4"
  }
 },
 "nbformat": 4,
 "nbformat_minor": 5
}
